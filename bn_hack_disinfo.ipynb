{
 "cells": [
  {
   "cell_type": "code",
   "execution_count": 1,
   "metadata": {},
   "outputs": [
    {
     "data": {
      "text/html": [
       "<div>\n",
       "<style scoped>\n",
       "    .dataframe tbody tr th:only-of-type {\n",
       "        vertical-align: middle;\n",
       "    }\n",
       "\n",
       "    .dataframe tbody tr th {\n",
       "        vertical-align: top;\n",
       "    }\n",
       "\n",
       "    .dataframe thead th {\n",
       "        text-align: right;\n",
       "    }\n",
       "</style>\n",
       "<table border=\"1\" class=\"dataframe\">\n",
       "  <thead>\n",
       "    <tr style=\"text-align: right;\">\n",
       "      <th></th>\n",
       "      <th>ChannelName</th>\n",
       "      <th>ChannelId</th>\n",
       "      <th>MessageId</th>\n",
       "      <th>Date</th>\n",
       "      <th>EditDate</th>\n",
       "      <th>Content</th>\n",
       "      <th>Suspicious_Level</th>\n",
       "    </tr>\n",
       "  </thead>\n",
       "  <tbody>\n",
       "    <tr>\n",
       "      <th>0</th>\n",
       "      <td>boris_rozhin</td>\n",
       "      <td>1101806611</td>\n",
       "      <td>91626</td>\n",
       "      <td>2023-07-08 16:11:34</td>\n",
       "      <td>2023-07-08 16:11:47</td>\n",
       "      <td>Работа наших бойцов к югу от Артемовска. Работ...</td>\n",
       "      <td>2</td>\n",
       "    </tr>\n",
       "    <tr>\n",
       "      <th>1</th>\n",
       "      <td>sashakots</td>\n",
       "      <td>1109403194</td>\n",
       "      <td>40853</td>\n",
       "      <td>2023-07-08 16:44:44</td>\n",
       "      <td>2023-07-08 16:44:58</td>\n",
       "      <td>Анкара нарушила договорённости, отпустив глава...</td>\n",
       "      <td>1</td>\n",
       "    </tr>\n",
       "    <tr>\n",
       "      <th>2</th>\n",
       "      <td>swodki</td>\n",
       "      <td>1144180066</td>\n",
       "      <td>280668</td>\n",
       "      <td>2023-07-09 02:00:23</td>\n",
       "      <td>2023-07-09 02:05:53</td>\n",
       "      <td>ЭТО ЕДИНСТВЕННЫЙ СПОСОБ ПОМОЧЬ НАМ! \\n\\nПополн...</td>\n",
       "      <td>1</td>\n",
       "    </tr>\n",
       "    <tr>\n",
       "      <th>3</th>\n",
       "      <td>boris_rozhin</td>\n",
       "      <td>1101806611</td>\n",
       "      <td>91573</td>\n",
       "      <td>2023-07-08 02:07:05</td>\n",
       "      <td>2023-07-08 02:07:19</td>\n",
       "      <td>МТ-ЛБ с 32-зарядной авиационной пусковой устан...</td>\n",
       "      <td>1</td>\n",
       "    </tr>\n",
       "    <tr>\n",
       "      <th>4</th>\n",
       "      <td>swodki</td>\n",
       "      <td>1144180066</td>\n",
       "      <td>280695</td>\n",
       "      <td>2023-07-09 07:01:49</td>\n",
       "      <td>2023-07-09 07:05:08</td>\n",
       "      <td>ЭТО ЕДИНСТВЕННЫЙ СПОСОБ ПОМОЧЬ НАМ! \\n\\nПополн...</td>\n",
       "      <td>1</td>\n",
       "    </tr>\n",
       "  </tbody>\n",
       "</table>\n",
       "</div>"
      ],
      "text/plain": [
       "    ChannelName   ChannelId  MessageId                 Date  \\\n",
       "0  boris_rozhin  1101806611      91626  2023-07-08 16:11:34   \n",
       "1     sashakots  1109403194      40853  2023-07-08 16:44:44   \n",
       "2        swodki  1144180066     280668  2023-07-09 02:00:23   \n",
       "3  boris_rozhin  1101806611      91573  2023-07-08 02:07:05   \n",
       "4        swodki  1144180066     280695  2023-07-09 07:01:49   \n",
       "\n",
       "              EditDate                                            Content  \\\n",
       "0  2023-07-08 16:11:47  Работа наших бойцов к югу от Артемовска. Работ...   \n",
       "1  2023-07-08 16:44:58  Анкара нарушила договорённости, отпустив глава...   \n",
       "2  2023-07-09 02:05:53  ЭТО ЕДИНСТВЕННЫЙ СПОСОБ ПОМОЧЬ НАМ! \\n\\nПополн...   \n",
       "3  2023-07-08 02:07:19  МТ-ЛБ с 32-зарядной авиационной пусковой устан...   \n",
       "4  2023-07-09 07:05:08  ЭТО ЕДИНСТВЕННЫЙ СПОСОБ ПОМОЧЬ НАМ! \\n\\nПополн...   \n",
       "\n",
       "   Suspicious_Level  \n",
       "0                 2  \n",
       "1                 1  \n",
       "2                 1  \n",
       "3                 1  \n",
       "4                 1  "
      ]
     },
     "execution_count": 1,
     "metadata": {},
     "output_type": "execute_result"
    }
   ],
   "source": [
    "import pandas as pd\n",
    "\n",
    "df = pd.read_csv('../../Downloads/train.csv')\n",
    "df.head()"
   ]
  },
  {
   "cell_type": "code",
   "execution_count": 2,
   "metadata": {},
   "outputs": [],
   "source": [
    "df['binary_target'] = (df.Suspicious_Level > 2).astype(int)"
   ]
  },
  {
   "cell_type": "code",
   "execution_count": 3,
   "metadata": {},
   "outputs": [],
   "source": [
    "from sklearn.model_selection import train_test_split\n",
    "\n",
    "df_train, df_test = train_test_split(df, test_size=0.2, random_state=42, stratify=df.binary_target)"
   ]
  },
  {
   "cell_type": "code",
   "execution_count": 4,
   "metadata": {},
   "outputs": [],
   "source": [
    "from sklearn.linear_model import LogisticRegression\n",
    "from sklearn.naive_bayes import MultinomialNB, GaussianNB\n",
    "from sklearn.feature_extraction.text import CountVectorizer, TfidfVectorizer\n",
    "from sklearn.pipeline import Pipeline\n",
    "from sklearn.metrics import roc_auc_score\n",
    "\n",
    "nb_clf = Pipeline([\n",
    "        ('vectorizer', CountVectorizer(\n",
    "            analyzer='word',\n",
    "            ngram_range=(1, 3),\n",
    "            lowercase=True,\n",
    "            min_df=5,\n",
    "            max_features=30000,\n",
    "            binary=True\n",
    "        )),  \n",
    "        ('classifier', MultinomialNB())\n",
    "    ])\n",
    "\n",
    "lr_clf = Pipeline([\n",
    "        ('vectorizer', CountVectorizer(\n",
    "            analyzer='word',\n",
    "            ngram_range=(1, 3),\n",
    "            lowercase=True,\n",
    "            min_df=5,\n",
    "            max_features=30000,\n",
    "            binary=True\n",
    "        )),  \n",
    "        ('classifier', LogisticRegression(C=1.0, random_state=42))\n",
    "    ])"
   ]
  },
  {
   "cell_type": "code",
   "execution_count": 5,
   "metadata": {},
   "outputs": [
    {
     "data": {
      "text/plain": [
       "0.8912087912087912"
      ]
     },
     "execution_count": 5,
     "metadata": {},
     "output_type": "execute_result"
    }
   ],
   "source": [
    "nb_clf.fit(df_train.Content, df_train.binary_target)\n",
    "\n",
    "roc_auc_score(df_test.binary_target, nb_clf.predict_proba(df_test.Content)[:, 1])"
   ]
  },
  {
   "cell_type": "code",
   "execution_count": 6,
   "metadata": {},
   "outputs": [
    {
     "data": {
      "text/plain": [
       "0.8234432234432235"
      ]
     },
     "execution_count": 6,
     "metadata": {},
     "output_type": "execute_result"
    }
   ],
   "source": [
    "lr_clf.fit(df_train.Content, df_train.binary_target)\n",
    "\n",
    "roc_auc_score(df_test.binary_target, lr_clf.predict_proba(df_test.Content)[:, 1])"
   ]
  },
  {
   "cell_type": "code",
   "execution_count": 7,
   "metadata": {},
   "outputs": [],
   "source": [
    "lr_clf = Pipeline([\n",
    "        ('vectorizer', TfidfVectorizer(\n",
    "            analyzer='word',\n",
    "            ngram_range=(1, 3),\n",
    "            lowercase=True,\n",
    "            min_df=5,\n",
    "            max_features=30000,\n",
    "            binary=True\n",
    "        )),  \n",
    "        ('classifier', LogisticRegression(C=0.1, random_state=42))\n",
    "    ])"
   ]
  },
  {
   "cell_type": "code",
   "execution_count": 8,
   "metadata": {},
   "outputs": [
    {
     "data": {
      "text/plain": [
       "0.8845054945054945"
      ]
     },
     "execution_count": 8,
     "metadata": {},
     "output_type": "execute_result"
    }
   ],
   "source": [
    "lr_clf.fit(df_train.Content, df_train.binary_target)\n",
    "\n",
    "roc_auc_score(df_test.binary_target, lr_clf.predict_proba(df_test.Content)[:, 1])"
   ]
  },
  {
   "cell_type": "code",
   "execution_count": null,
   "metadata": {},
   "outputs": [],
   "source": []
  }
 ],
 "metadata": {
  "kernelspec": {
   "display_name": "Python 3",
   "language": "python",
   "name": "python3"
  },
  "language_info": {
   "codemirror_mode": {
    "name": "ipython",
    "version": 3
   },
   "file_extension": ".py",
   "mimetype": "text/x-python",
   "name": "python",
   "nbconvert_exporter": "python",
   "pygments_lexer": "ipython3",
   "version": "3.8.5"
  }
 },
 "nbformat": 4,
 "nbformat_minor": 4
}
