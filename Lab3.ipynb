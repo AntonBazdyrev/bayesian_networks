{
 "cells": [
  {
   "cell_type": "code",
   "execution_count": 1,
   "metadata": {},
   "outputs": [],
   "source": [
    "%matplotlib inline\n",
    "\n",
    "import sys\n",
    "import time\n",
    "import copy\n",
    "import itertools\n",
    "\n",
    "import pandas as pd\n",
    "import numpy as np\n",
    "\n",
    "from datetime import timedelta\n",
    "from utils import *\n",
    "\n",
    "sys.path.append('./')"
   ]
  },
  {
   "cell_type": "code",
   "execution_count": 2,
   "metadata": {},
   "outputs": [],
   "source": [
    "def build_graph_mdl_heuristic(pathname):\n",
    "    Primary_Graph = {}\n",
    "    Graph_Winners = []\n",
    "    Graph_Candidates = []\n",
    "    Graph_Candidates_Sorted = []\n",
    "    Cycle_Flags = []\n",
    "    MDL = []\n",
    "    data = pd.read_table(pathname, sep=\"\\t\")\n",
    "    vertices = list(data.columns)\n",
    "    MI_Pairs = {}\n",
    "    Total_Graphs = 0\n",
    "    vertices_combinations = list(itertools.combinations(vertices, 2))\n",
    "    start = time.time()\n",
    "    for (item_1, item_2) in vertices_combinations:\n",
    "        MI_Pairs[(item_1, item_2)] = calculate_mi(data, item_1, item_2)\n",
    "    MI_Pairs_sorted = dict(sorted(MI_Pairs.items(), key=lambda x: x[1], reverse=True))\n",
    "    mi_pairs_logs = copy.deepcopy(MI_Pairs_sorted)\n",
    "    k = 1\n",
    "    for vertex in vertices:\n",
    "        Primary_Graph[vertex] = []\n",
    "    Graph_Winners.append(Primary_Graph)\n",
    "    while (MI_Pairs_sorted):\n",
    "        k += 1\n",
    "        max_MI_key = list(MI_Pairs_sorted.keys())[0]\n",
    "        max_MI_value = MI_Pairs_sorted[max_MI_key]\n",
    "        MDL_Current = calculate_MDL_of_graph(data, Graph_Winners[0])\n",
    "        Graph_Candidates.clear()\n",
    "        Graph_Candidates_Sorted.clear()\n",
    "        Cycle_Flags.clear()\n",
    "        vertex_1, vertex_2 = max_MI_key\n",
    "        del MI_Pairs_sorted[max_MI_key]\n",
    "        for Graph in Graph_Winners:\n",
    "            Graph_1 = copy.deepcopy(Graph)\n",
    "            Graph_2 = copy.deepcopy(Graph)\n",
    "            Graph_3 = copy.deepcopy(Graph)\n",
    "            Graph_1[vertex_2].append(vertex_1)\n",
    "            Graph_2[vertex_1].append(vertex_2)\n",
    "            Graph_Candidates.append({\"Struct\": Graph_1, \"L\": 0})\n",
    "            Graph_Candidates.append({\"Struct\": Graph_2, \"L\": 0})\n",
    "            Graph_Candidates.append({\"Struct\": Graph_3, \"L\": 0})\n",
    "        Total_Graphs += len(Graph_Candidates)\n",
    "        for Graph_Item in Graph_Candidates:\n",
    "            Graph = Graph_Item[\"Struct\"]\n",
    "            Cycle_Flags.append(cyclic(Graph))\n",
    "        if (any(Cycle_Flags)):\n",
    "            MDL.append(MDL_Current)\n",
    "            continue\n",
    "        else:\n",
    "            for Graph_Item in Graph_Candidates:\n",
    "                Graph = Graph_Item[\"Struct\"]\n",
    "                Graph_Item[\"L\"] = calculate_MDL_of_graph(data, Graph)\n",
    "            Graph_Candidates_Sorted = sorted(Graph_Candidates, key= lambda d: d[\"L\"])\n",
    "            L_Min = Graph_Candidates_Sorted[0][\"L\"]\n",
    "            Graph_Winners.clear()\n",
    "            for G_C in Graph_Candidates_Sorted:\n",
    "                if (G_C[\"L\"] == L_Min):\n",
    "                    Graph_Winners.append(G_C[\"Struct\"])\n",
    "            MDL.append(L_Min)\n",
    "    end = time.time()\n",
    "    elapsed = end - start\n",
    "    return mi_pairs_logs, MDL, Graph_Winners, str(timedelta(seconds=elapsed)), Total_Graphs"
   ]
  },
  {
   "cell_type": "code",
   "execution_count": 3,
   "metadata": {},
   "outputs": [],
   "source": [
    "def structural_difference(Etalon_Graph, built_graph):\n",
    "    parent_vertices = []\n",
    "    symmetric_differences = []\n",
    "    symmetric_differences_card = []\n",
    "    for vertex in Etalon_Graph:\n",
    "        parent_vertices.append([Etalon_Graph[vertex], built_graph[vertex]])\n",
    "    Table = pd.DataFrame(parent_vertices, columns=[\"Etalon Graph Parent Vertices\", \"Built Graph Parent Vertices\"], index=list(Etalon_Graph.keys()))\n",
    "    for vertex in Table.index:\n",
    "        sym_diff = list(set(Table[\"Etalon Graph Parent Vertices\"][vertex]).symmetric_difference(set(Table[\"Built Graph Parent Vertices\"][vertex])))\n",
    "        symmetric_differences.append(sym_diff)\n",
    "        symmetric_differences_card.append(len(sym_diff))\n",
    "    Table[\"Symmetric Difference\"] = symmetric_differences\n",
    "    Table[\"Symmetric Difference Card\"] = symmetric_differences_card\n",
    "    Table.index.name = \"Vertex\"\n",
    "    Sum = Table['Symmetric Difference Card'].sum()\n",
    "    return Table, Sum"
   ]
  },
  {
   "cell_type": "code",
   "execution_count": 4,
   "metadata": {},
   "outputs": [
    {
     "name": "stdout",
     "output_type": "stream",
     "text": [
      "Time: 0:00:02.797535\n",
      "N models: 126\n"
     ]
    },
    {
     "data": {
      "text/plain": [
       "[{'Smoke': ['Bronchitis'],\n",
       "  'Cancer': ['Tub_or_Cancer'],\n",
       "  'Tuberculosis': ['Tub_or_Cancer'],\n",
       "  'Tub_or_Cancer': ['X_Ray'],\n",
       "  'Asia': ['Tuberculosis'],\n",
       "  'X_Ray': [],\n",
       "  'Bronchitis': ['dyspnea'],\n",
       "  'dyspnea': ['Tub_or_Cancer']}]"
      ]
     },
     "execution_count": 4,
     "metadata": {},
     "output_type": "execute_result"
    }
   ],
   "source": [
    "mi_pairs_values, mdl_history, optimal_graph, took_time, total_models = build_graph_mdl_heuristic(\"./asia/Asia.txt\")\n",
    "print(f'Time: {took_time}')\n",
    "print(f'N models: {total_models}')\n",
    "optimal_graph"
   ]
  },
  {
   "cell_type": "code",
   "execution_count": 5,
   "metadata": {},
   "outputs": [
    {
     "name": "stdout",
     "output_type": "stream",
     "text": [
      "{('Bronchitis', 'dyspnea'): 0.25172779490288477, ('Cancer', 'Tub_or_Cancer'): 0.13627859181846003, ('Tub_or_Cancer', 'X_Ray'): 0.12597634556056508, ('Cancer', 'X_Ray'): 0.09643837013930524, ('Smoke', 'Bronchitis'): 0.04895159225394096, ('Tuberculosis', 'Tub_or_Cancer'): 0.03640365483895031, ('Tuberculosis', 'X_Ray'): 0.025060313257108828, ('Smoke', 'dyspnea'): 0.024577740448001928, ('Tub_or_Cancer', 'dyspnea'): 0.013289650792134329, ('Cancer', 'dyspnea'): 0.010142005946990176, ('X_Ray', 'dyspnea'): 0.005094015213607014, ('Smoke', 'Cancer'): 0.0030274974935237025, ('Tuberculosis', 'dyspnea'): 0.0028670665723796226, ('Smoke', 'Tub_or_Cancer'): 0.002260747519352644, ('Tuberculosis', 'Asia'): 0.0012276976904070714, ('Smoke', 'X_Ray'): 0.0008505239604480437, ('Cancer', 'Bronchitis'): 0.0005085585076306811, ('Tuberculosis', 'Bronchitis'): 0.0003807044034175879, ('Tub_or_Cancer', 'Asia'): 0.00026645074865278104, ('Smoke', 'Asia'): 0.00019768924547305087, ('Tub_or_Cancer', 'Bronchitis'): 0.0001281138058406375, ('Cancer', 'Asia'): 0.00012270705574719349, ('Asia', 'X_Ray'): 6.475561832363426e-05, ('Cancer', 'Tuberculosis'): 3.950077936879098e-05, ('Asia', 'Bronchitis'): 3.249180559572218e-05, ('Asia', 'dyspnea'): 1.72581528664571e-05, ('Smoke', 'Tuberculosis'): 3.0316596352603054e-06, ('X_Ray', 'Bronchitis'): 7.41976432893103e-07}\n"
     ]
    }
   ],
   "source": [
    "print(mi_pairs_values)"
   ]
  },
  {
   "cell_type": "code",
   "execution_count": 6,
   "metadata": {},
   "outputs": [
    {
     "data": {
      "image/png": "[encoded data removed]",
      "text/plain": [
       "<Figure size 432x288 with 1 Axes>"
      ]
     },
     "metadata": {
      "needs_background": "light"
     },
     "output_type": "display_data"
    }
   ],
   "source": [
    "from matplotlib import pyplot as plt\n",
    "\n",
    "plt.xlim(0, len(mdl_history) + 1)\n",
    "plt.plot(range(1, len(mdl_history) + 1), mdl_history , marker = \"o\", label = \"MDL\")\n",
    "plt.xlabel(\"Iteration\")\n",
    "plt.ylabel(\"MDL Value\")\n",
    "plt.title(\"MDL dynamic\")\n",
    "plt.legend()\n",
    "plt.show()"
   ]
  },
  {
   "cell_type": "code",
   "execution_count": 7,
   "metadata": {},
   "outputs": [
    {
     "name": "stdout",
     "output_type": "stream",
     "text": [
      "{'Smoke': ['Bronchitis'], 'Cancer': ['Tub_or_Cancer'], 'Tuberculosis': ['Tub_or_Cancer'], 'Tub_or_Cancer': ['X_Ray'], 'Asia': ['Tuberculosis'], 'X_Ray': [], 'Bronchitis': ['dyspnea'], 'dyspnea': ['Tub_or_Cancer']}\n",
      "Sum: 13\n",
      "\n"
     ]
    },
    {
     "data": {
      "text/html": [
       "<div>\n",
       "<style scoped>\n",
       "    .dataframe tbody tr th:only-of-type {\n",
       "        vertical-align: middle;\n",
       "    }\n",
       "\n",
       "    .dataframe tbody tr th {\n",
       "        vertical-align: top;\n",
       "    }\n",
       "\n",
       "    .dataframe thead th {\n",
       "        text-align: right;\n",
       "    }\n",
       "</style>\n",
       "<table border=\"1\" class=\"dataframe\">\n",
       "  <thead>\n",
       "    <tr style=\"text-align: right;\">\n",
       "      <th></th>\n",
       "      <th>Etalon Graph Parent Vertices</th>\n",
       "      <th>Built Graph Parent Vertices</th>\n",
       "      <th>Symmetric Difference</th>\n",
       "      <th>Symmetric Difference Card</th>\n",
       "    </tr>\n",
       "    <tr>\n",
       "      <th>Vertex</th>\n",
       "      <th></th>\n",
       "      <th></th>\n",
       "      <th></th>\n",
       "      <th></th>\n",
       "    </tr>\n",
       "  </thead>\n",
       "  <tbody>\n",
       "    <tr>\n",
       "      <th>Asia</th>\n",
       "      <td>[]</td>\n",
       "      <td>[Tuberculosis]</td>\n",
       "      <td>[Tuberculosis]</td>\n",
       "      <td>1</td>\n",
       "    </tr>\n",
       "    <tr>\n",
       "      <th>Smoke</th>\n",
       "      <td>[]</td>\n",
       "      <td>[Bronchitis]</td>\n",
       "      <td>[Bronchitis]</td>\n",
       "      <td>1</td>\n",
       "    </tr>\n",
       "    <tr>\n",
       "      <th>Tuberculosis</th>\n",
       "      <td>[Asia]</td>\n",
       "      <td>[Tub_or_Cancer]</td>\n",
       "      <td>[Tub_or_Cancer, Asia]</td>\n",
       "      <td>2</td>\n",
       "    </tr>\n",
       "    <tr>\n",
       "      <th>Cancer</th>\n",
       "      <td>[Smoke]</td>\n",
       "      <td>[Tub_or_Cancer]</td>\n",
       "      <td>[Tub_or_Cancer, Smoke]</td>\n",
       "      <td>2</td>\n",
       "    </tr>\n",
       "    <tr>\n",
       "      <th>Bronchitis</th>\n",
       "      <td>[Smoke]</td>\n",
       "      <td>[dyspnea]</td>\n",
       "      <td>[dyspnea, Smoke]</td>\n",
       "      <td>2</td>\n",
       "    </tr>\n",
       "    <tr>\n",
       "      <th>Tub_or_Cancer</th>\n",
       "      <td>[Tuberculosis, Cancer]</td>\n",
       "      <td>[X_Ray]</td>\n",
       "      <td>[X_Ray, Cancer, Tuberculosis]</td>\n",
       "      <td>3</td>\n",
       "    </tr>\n",
       "    <tr>\n",
       "      <th>X_Ray</th>\n",
       "      <td>[Tub_or_Cancer]</td>\n",
       "      <td>[]</td>\n",
       "      <td>[Tub_or_Cancer]</td>\n",
       "      <td>1</td>\n",
       "    </tr>\n",
       "    <tr>\n",
       "      <th>dyspnea</th>\n",
       "      <td>[Tub_or_Cancer, Bronchitis]</td>\n",
       "      <td>[Tub_or_Cancer]</td>\n",
       "      <td>[Bronchitis]</td>\n",
       "      <td>1</td>\n",
       "    </tr>\n",
       "  </tbody>\n",
       "</table>\n",
       "</div>"
      ],
      "text/plain": [
       "              Etalon Graph Parent Vertices Built Graph Parent Vertices  \\\n",
       "Vertex                                                                   \n",
       "Asia                                    []              [Tuberculosis]   \n",
       "Smoke                                   []                [Bronchitis]   \n",
       "Tuberculosis                        [Asia]             [Tub_or_Cancer]   \n",
       "Cancer                             [Smoke]             [Tub_or_Cancer]   \n",
       "Bronchitis                         [Smoke]                   [dyspnea]   \n",
       "Tub_or_Cancer       [Tuberculosis, Cancer]                     [X_Ray]   \n",
       "X_Ray                      [Tub_or_Cancer]                          []   \n",
       "dyspnea        [Tub_or_Cancer, Bronchitis]             [Tub_or_Cancer]   \n",
       "\n",
       "                        Symmetric Difference  Symmetric Difference Card  \n",
       "Vertex                                                                   \n",
       "Asia                          [Tuberculosis]                          1  \n",
       "Smoke                           [Bronchitis]                          1  \n",
       "Tuberculosis           [Tub_or_Cancer, Asia]                          2  \n",
       "Cancer                [Tub_or_Cancer, Smoke]                          2  \n",
       "Bronchitis                  [dyspnea, Smoke]                          2  \n",
       "Tub_or_Cancer  [X_Ray, Cancer, Tuberculosis]                          3  \n",
       "X_Ray                        [Tub_or_Cancer]                          1  \n",
       "dyspnea                         [Bronchitis]                          1  "
      ]
     },
     "execution_count": 7,
     "metadata": {},
     "output_type": "execute_result"
    }
   ],
   "source": [
    "original_graph = {\n",
    "    \"Asia\": [],\n",
    "    \"Smoke\": [],\n",
    "    \"Tuberculosis\": [\"Asia\"],\n",
    "    \"Cancer\": [\"Smoke\"],\n",
    "    \"Bronchitis\": [\"Smoke\"],\n",
    "    \"Tub_or_Cancer\": [\"Tuberculosis\", \"Cancer\"],\n",
    "    \"X_Ray\": [\"Tub_or_Cancer\"],\n",
    "    \"dyspnea\": [\"Tub_or_Cancer\", \"Bronchitis\"]\n",
    "}\n",
    "\n",
    "Table, metric_value = structural_difference(original_graph, optimal_graph[0])\n",
    "print(optimal_graph[0])\n",
    "print(\"Sum:\", metric_value)\n",
    "print()\n",
    "Table"
   ]
  },
  {
   "cell_type": "code",
   "execution_count": 8,
   "metadata": {},
   "outputs": [
    {
     "data": {
      "image/png": "[encoded data removed]",
      "text/plain": [
       "<Figure size 576x576 with 1 Axes>"
      ]
     },
     "metadata": {},
     "output_type": "display_data"
    }
   ],
   "source": [
    "import networkx as nx\n",
    "\n",
    "\n",
    "G = nx.DiGraph(directed=True)\n",
    "data = pd.read_table(\"./asia/Asia.txt\", sep=\"\\t\")\n",
    "G.add_nodes_from(list(data.columns))\n",
    "for vertex in optimal_graph[0]:\n",
    "    for item in optimal_graph[0][vertex]:\n",
    "        G.add_edge(item, vertex)\n",
    "\n",
    "node_size = 1200\n",
    "node_color = 'skyblue'\n",
    "node_shape = 'o'\n",
    "edge_color = 'gray'\n",
    "plt.figure(figsize=(8, 8))\n",
    "pos = nx.spring_layout(G)\n",
    "nx.draw(G, pos, node_size=node_size, node_color=node_color, \n",
    "        edge_color=edge_color, with_labels=True)\n",
    "\n",
    "labels = nx.get_edge_attributes(G, 'weight')\n",
    "nx.draw_networkx_edge_labels(G, pos, edge_labels=labels)\n",
    "plt.title(\"Heuristic-optimal Graph\")\n",
    "plt.show()"
   ]
  }
 ],
 "metadata": {
  "kernelspec": {
   "display_name": "Python 3",
   "language": "python",
   "name": "python3"
  },
  "language_info": {
   "codemirror_mode": {
    "name": "ipython",
    "version": 3
   },
   "file_extension": ".py",
   "mimetype": "text/x-python",
   "name": "python",
   "nbconvert_exporter": "python",
   "pygments_lexer": "ipython3",
   "version": "3.8.5"
  }
 },
 "nbformat": 4,
 "nbformat_minor": 4
}
